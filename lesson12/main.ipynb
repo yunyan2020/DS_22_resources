{
 "cells": [
  {
   "cell_type": "markdown",
   "metadata": {},
   "source": []
  },
  {
   "cell_type": "code",
   "execution_count": 51,
   "metadata": {},
   "outputs": [],
   "source": [
    "import pandas as pd\n",
    "import numpy as np\n"
   ]
  },
  {
   "cell_type": "code",
   "execution_count": 52,
   "metadata": {},
   "outputs": [
    {
     "name": "stdout",
     "output_type": "stream",
     "text": [
      "Hello\n"
     ]
    }
   ],
   "source": [
    "print(\"Hello\")"
   ]
  },
  {
   "attachments": {},
   "cell_type": "markdown",
   "metadata": {},
   "source": [
    "##Numpy"
   ]
  },
  {
   "attachments": {},
   "cell_type": "markdown",
   "metadata": {},
   "source": [
    "### varför numpy\n",
    "- Numpy är skrivet i C\n",
    "--Python är dynamiskt typad språk interperat språk --dvs otroligt långsamt\n",
    "-- C är ett statiskt typat språk kompilerat språk  -dvs otroligt snabbt"
   ]
  },
  {
   "attachments": {},
   "cell_type": "markdown",
   "metadata": {},
   "source": [
    "Numpy arrayer kan endast ha en datatyp"
   ]
  },
  {
   "cell_type": "code",
   "execution_count": 53,
   "metadata": {},
   "outputs": [
    {
     "name": "stdout",
     "output_type": "stream",
     "text": [
      "[1, 2, 3, 4, 'Hej']\n",
      "[1 2 3 4]\n"
     ]
    },
    {
     "data": {
      "text/plain": [
       "dtype('int8')"
      ]
     },
     "execution_count": 53,
     "metadata": {},
     "output_type": "execute_result"
    }
   ],
   "source": [
    "lst = list([1,2,3,4,\"Hej\"])\n",
    "print(lst)\n",
    "arr = np.array(lst)\n",
    "arr\n",
    "\n",
    "arr = np.array([1,2,3,4],dtype=np.int8)\n",
    "print(arr)\n",
    "arr.dtype"
   ]
  },
  {
   "attachments": {},
   "cell_type": "markdown",
   "metadata": {},
   "source": [
    "Det finns inbyggda funktioner för att skapa arrayer\n",
    "De kan också vara och är oftast multidimensionella"
   ]
  },
  {
   "cell_type": "code",
   "execution_count": 54,
   "metadata": {},
   "outputs": [
    {
     "name": "stdout",
     "output_type": "stream",
     "text": [
      "[[1 1 1]\n",
      " [1 1 1]\n",
      " [1 1 1]\n",
      " [1 1 1]\n",
      " [1 1 1]\n",
      " [1 1 1]\n",
      " [1 1 1]\n",
      " [1 1 1]\n",
      " [1 1 1]]\n",
      "(9, 3)\n"
     ]
    },
    {
     "data": {
      "text/plain": [
       "array([[1, 1, 1, 1, 1, 1, 1, 1, 1],\n",
       "       [1, 1, 1, 1, 1, 1, 1, 1, 1],\n",
       "       [1, 1, 1, 1, 1, 1, 1, 1, 1]], dtype=int64)"
      ]
     },
     "execution_count": 54,
     "metadata": {},
     "output_type": "execute_result"
    }
   ],
   "source": [
    "ones_array = np.ones((9,3),dtype=np.int64)\n",
    "print(ones_array)\n",
    "print(ones_array.shape)\n",
    "ones_array = ones_array.reshape((3,9))\n",
    "ones_array"
   ]
  },
  {
   "cell_type": "code",
   "execution_count": 55,
   "metadata": {},
   "outputs": [
    {
     "name": "stdout",
     "output_type": "stream",
     "text": [
      "[[ 1  2  3  4  5  6  7  8  9 10 11 12 13 14 15 16 17 18 19 20 21]\n",
      " [22 23 24 25 26 27 28 29 30 31 32 33 34 35 36 37 38 39 40 41 42]]\n",
      "[[1 1 1]\n",
      " [2 2 2]]\n"
     ]
    }
   ],
   "source": [
    "range_array = np.arange(1,43).reshape(2,21)\n",
    "print(range_array)\n",
    "ones_array[0] = 0\n",
    "ones_array[1] = 1\n",
    "ones_array[2] = 2\n",
    "# print (ones_array)\n",
    "# print(ones_array[:2])\n",
    "# print(ones_array[1:2])\n",
    "# print(ones_array[:,:])\n",
    "print(ones_array[1:,1:4])\n"
   ]
  },
  {
   "attachments": {},
   "cell_type": "markdown",
   "metadata": {},
   "source": [
    "Det finns inbyggda -metoder för att gör beräkningar på arrayer"
   ]
  },
  {
   "cell_type": "code",
   "execution_count": 56,
   "metadata": {},
   "outputs": [
    {
     "name": "stdout",
     "output_type": "stream",
     "text": [
      "-1195114496\n",
      "42\n",
      "1\n",
      "[231 672]\n",
      "[23 25 27 29 31 33 35 37 39 41 43 45 47 49 51 53 55 57 59 61 63]\n",
      "[          1           2           6          24         120         720\n",
      "        5040       40320      362880     3628800    39916800   479001600\n",
      "  1932053504  1278945280  2004310016  2004189184  -288522240  -898433024\n",
      "   109641728 -2102132736 -1195114496]\n"
     ]
    },
    {
     "data": {
      "text/plain": [
       "array([[ 1,  2,  3,  4,  5,  6,  7,  8,  9, 10, 11, 12, 13, 14, 15, 16,\n",
       "        17, 18, 19, 20, 21],\n",
       "       [22, 23, 24, 25, 26, 27, 28, 29, 30, 31, 32, 33, 34, 35, 36, 37,\n",
       "        38, 39, 40, 41, 42]])"
      ]
     },
     "execution_count": 56,
     "metadata": {},
     "output_type": "execute_result"
    }
   ],
   "source": [
    "print(range_array[0].prod())\n",
    "print(range_array.max())\n",
    "print(range_array.min())\n",
    "print(range_array.sum(axis=1))\n",
    "print(range_array.sum(axis=0))\n",
    "print(range_array[0].cumprod())\n",
    "range_array"
   ]
  },
  {
   "attachments": {},
   "cell_type": "markdown",
   "metadata": {},
   "source": [
    "Numpy har några inbyggda konstanter som vi kan nyttja,exempelvis"
   ]
  },
  {
   "cell_type": "code",
   "execution_count": 57,
   "metadata": {},
   "outputs": [
    {
     "data": {
      "text/plain": [
       "inf"
      ]
     },
     "execution_count": 57,
     "metadata": {},
     "output_type": "execute_result"
    }
   ],
   "source": [
    "np.pi\n",
    "np.nan\n",
    "np.Infinity"
   ]
  },
  {
   "attachments": {},
   "cell_type": "markdown",
   "metadata": {},
   "source": [
    "Vi kan iterera över en array"
   ]
  },
  {
   "cell_type": "code",
   "execution_count": 58,
   "metadata": {},
   "outputs": [
    {
     "name": "stdout",
     "output_type": "stream",
     "text": [
      "[ 1  2  3  4  5  6  7  8  9 10 11 12 13 14 15 16 17 18 19 20 21]\n",
      "[22 23 24 25 26 27 28 29 30 31 32 33 34 35 36 37 38 39 40 41 42]\n",
      "1\n",
      "2\n",
      "3\n",
      "4\n",
      "5\n",
      "6\n",
      "7\n",
      "8\n",
      "9\n",
      "10\n",
      "11\n",
      "12\n",
      "13\n",
      "14\n",
      "15\n",
      "16\n",
      "17\n",
      "18\n",
      "19\n",
      "20\n",
      "21\n",
      "22\n",
      "23\n",
      "24\n",
      "25\n",
      "26\n",
      "27\n",
      "28\n",
      "29\n",
      "30\n",
      "31\n",
      "32\n",
      "33\n",
      "34\n",
      "35\n",
      "36\n",
      "37\n",
      "38\n",
      "39\n",
      "40\n",
      "41\n",
      "42\n"
     ]
    }
   ],
   "source": [
    "for thing in range_array:\n",
    "    print(thing)\n",
    "\n",
    "for thing in np.nditer(range_array):\n",
    "    print(thing)\n",
    "\n",
    "range_array[:,2] +=10"
   ]
  },
  {
   "attachments": {},
   "cell_type": "markdown",
   "metadata": {},
   "source": [
    "##Pandas"
   ]
  },
  {
   "attachments": {},
   "cell_type": "markdown",
   "metadata": {},
   "source": [
    "### Varför pandas\n",
    "-- Pandas är byggt på numpy och är skrivet i c ,dvs snabbt\n",
    "-- Pandas är en dataanalysbibliotek,lätt att läsa in\n",
    "-- Lätt att ha strukturerad data\n"
   ]
  },
  {
   "attachments": {},
   "cell_type": "markdown",
   "metadata": {},
   "source": [
    "I pandas jobbar vi med dataframes on series oftast"
   ]
  },
  {
   "cell_type": "code",
   "execution_count": 59,
   "metadata": {},
   "outputs": [
    {
     "data": {
      "text/html": [
       "<div>\n",
       "<style scoped>\n",
       "    .dataframe tbody tr th:only-of-type {\n",
       "        vertical-align: middle;\n",
       "    }\n",
       "\n",
       "    .dataframe tbody tr th {\n",
       "        vertical-align: top;\n",
       "    }\n",
       "\n",
       "    .dataframe thead th {\n",
       "        text-align: right;\n",
       "    }\n",
       "</style>\n",
       "<table border=\"1\" class=\"dataframe\">\n",
       "  <thead>\n",
       "    <tr style=\"text-align: right;\">\n",
       "      <th></th>\n",
       "      <th>person</th>\n",
       "      <th>age</th>\n",
       "    </tr>\n",
       "  </thead>\n",
       "  <tbody>\n",
       "    <tr>\n",
       "      <th>0</th>\n",
       "      <td>Anton</td>\n",
       "      <td>31</td>\n",
       "    </tr>\n",
       "    <tr>\n",
       "      <th>1</th>\n",
       "      <td>John</td>\n",
       "      <td>56</td>\n",
       "    </tr>\n",
       "    <tr>\n",
       "      <th>2</th>\n",
       "      <td>Sven</td>\n",
       "      <td>1</td>\n",
       "    </tr>\n",
       "    <tr>\n",
       "      <th>3</th>\n",
       "      <td>Pei</td>\n",
       "      <td>33</td>\n",
       "    </tr>\n",
       "    <tr>\n",
       "      <th>4</th>\n",
       "      <td>Lisa</td>\n",
       "      <td>37</td>\n",
       "    </tr>\n",
       "    <tr>\n",
       "      <th>5</th>\n",
       "      <td>Ann</td>\n",
       "      <td>98</td>\n",
       "    </tr>\n",
       "  </tbody>\n",
       "</table>\n",
       "</div>"
      ],
      "text/plain": [
       "  person  age\n",
       "0  Anton   31\n",
       "1   John   56\n",
       "2   Sven    1\n",
       "3    Pei   33\n",
       "4   Lisa   37\n",
       "5    Ann   98"
      ]
     },
     "execution_count": 59,
     "metadata": {},
     "output_type": "execute_result"
    }
   ],
   "source": [
    "my_data_dict = {\n",
    "    \"person\":[\"Anton\",\"John\",\"Sven\",\"Pei\",\"Lisa\",\"Ann\"],\n",
    "    \"age\":[31,56,1,33,37,98]\n",
    "}\n",
    "df_from_dict = pd.DataFrame(my_data_dict)\n",
    "df_from_dict"
   ]
  },
  {
   "cell_type": "code",
   "execution_count": 60,
   "metadata": {},
   "outputs": [
    {
     "data": {
      "text/plain": [
       "0    Anton\n",
       "1     John\n",
       "2     Sven\n",
       "3      Pei\n",
       "4     Lisa\n",
       "Name: person, dtype: object"
      ]
     },
     "execution_count": 60,
     "metadata": {},
     "output_type": "execute_result"
    }
   ],
   "source": [
    "df_from_dict.iloc[0]\n",
    "df_from_dict.iloc[0][\"person\"]\n",
    "df_from_dict[\"person\"][:5]\n"
   ]
  },
  {
   "cell_type": "code",
   "execution_count": 61,
   "metadata": {},
   "outputs": [
    {
     "data": {
      "text/plain": [
       "Anton    1\n",
       "John     1\n",
       "Sven     1\n",
       "Pei      1\n",
       "Lisa     1\n",
       "Ann      1\n",
       "Name: person, dtype: int64"
      ]
     },
     "execution_count": 61,
     "metadata": {},
     "output_type": "execute_result"
    }
   ],
   "source": [
    "people = df_from_dict[\"person\"]\n",
    "people.name\n",
    "people.size\n",
    "people.hasnans\n",
    "people.value_counts()\n"
   ]
  },
  {
   "cell_type": "code",
   "execution_count": 62,
   "metadata": {},
   "outputs": [
    {
     "data": {
      "text/html": [
       "<div>\n",
       "<style scoped>\n",
       "    .dataframe tbody tr th:only-of-type {\n",
       "        vertical-align: middle;\n",
       "    }\n",
       "\n",
       "    .dataframe tbody tr th {\n",
       "        vertical-align: top;\n",
       "    }\n",
       "\n",
       "    .dataframe thead th {\n",
       "        text-align: right;\n",
       "    }\n",
       "</style>\n",
       "<table border=\"1\" class=\"dataframe\">\n",
       "  <thead>\n",
       "    <tr style=\"text-align: right;\">\n",
       "      <th></th>\n",
       "      <th>dok_id</th>\n",
       "      <th>dok_rm</th>\n",
       "      <th>dok_nummer</th>\n",
       "      <th>dok_datum</th>\n",
       "      <th>avsnittsrubrik</th>\n",
       "      <th>kammaraktivitet</th>\n",
       "      <th>anforande_nummer</th>\n",
       "      <th>talare</th>\n",
       "      <th>parti</th>\n",
       "      <th>anforandetext</th>\n",
       "      <th>intressent_id</th>\n",
       "      <th>rel_dok_id</th>\n",
       "      <th>replik</th>\n",
       "    </tr>\n",
       "  </thead>\n",
       "  <tbody>\n",
       "    <tr>\n",
       "      <th>0</th>\n",
       "      <td>HA091</td>\n",
       "      <td>2022/23</td>\n",
       "      <td>1</td>\n",
       "      <td>2022-09-26 00:00:00</td>\n",
       "      <td>Hälsningsanförande från ålderspresidenten</td>\n",
       "      <td>NaN</td>\n",
       "      <td>1</td>\n",
       "      <td>Carina Ohlsson (S)</td>\n",
       "      <td>S</td>\n",
       "      <td>Ärade riksdagsledamöter! Mina damer och herra...</td>\n",
       "      <td>8.599683e+11</td>\n",
       "      <td>NaN</td>\n",
       "      <td>N</td>\n",
       "    </tr>\n",
       "    <tr>\n",
       "      <th>1</th>\n",
       "      <td>HA091</td>\n",
       "      <td>2022/23</td>\n",
       "      <td>1</td>\n",
       "      <td>2022-09-26 00:00:00</td>\n",
       "      <td>Val av förste vice talman</td>\n",
       "      <td>NaN</td>\n",
       "      <td>10</td>\n",
       "      <td>Gunilla Carlsson (S)</td>\n",
       "      <td>S</td>\n",
       "      <td>Fru ålderspresident! Jag vill å den socialdem...</td>\n",
       "      <td>8.752213e+11</td>\n",
       "      <td>NaN</td>\n",
       "      <td>N</td>\n",
       "    </tr>\n",
       "    <tr>\n",
       "      <th>2</th>\n",
       "      <td>HA091</td>\n",
       "      <td>2022/23</td>\n",
       "      <td>1</td>\n",
       "      <td>2022-09-26 00:00:00</td>\n",
       "      <td>Val av förste vice talman</td>\n",
       "      <td>NaN</td>\n",
       "      <td>11</td>\n",
       "      <td>Annie Lööf (C)</td>\n",
       "      <td>C</td>\n",
       "      <td>Fru ålderspresident och ärade ledamöter av Sv...</td>\n",
       "      <td>8.628683e+11</td>\n",
       "      <td>NaN</td>\n",
       "      <td>N</td>\n",
       "    </tr>\n",
       "    <tr>\n",
       "      <th>3</th>\n",
       "      <td>HA091</td>\n",
       "      <td>2022/23</td>\n",
       "      <td>1</td>\n",
       "      <td>2022-09-26 00:00:00</td>\n",
       "      <td>Val av andre vice talman</td>\n",
       "      <td>NaN</td>\n",
       "      <td>12</td>\n",
       "      <td>Henrik Vinge (SD)</td>\n",
       "      <td>SD</td>\n",
       "      <td>Fru ålderspresident! Jag vill börja med att g...</td>\n",
       "      <td>4.068319e+11</td>\n",
       "      <td>NaN</td>\n",
       "      <td>N</td>\n",
       "    </tr>\n",
       "    <tr>\n",
       "      <th>4</th>\n",
       "      <td>HA091</td>\n",
       "      <td>2022/23</td>\n",
       "      <td>1</td>\n",
       "      <td>2022-09-26 00:00:00</td>\n",
       "      <td>Val av andre vice talman</td>\n",
       "      <td>NaN</td>\n",
       "      <td>13</td>\n",
       "      <td>Annika Hirvonen (MP)</td>\n",
       "      <td>MP</td>\n",
       "      <td>Fru ålderspresident! När vetskapen om Moderat...</td>\n",
       "      <td>8.196016e+11</td>\n",
       "      <td>NaN</td>\n",
       "      <td>N</td>\n",
       "    </tr>\n",
       "    <tr>\n",
       "      <th>...</th>\n",
       "      <td>...</td>\n",
       "      <td>...</td>\n",
       "      <td>...</td>\n",
       "      <td>...</td>\n",
       "      <td>...</td>\n",
       "      <td>...</td>\n",
       "      <td>...</td>\n",
       "      <td>...</td>\n",
       "      <td>...</td>\n",
       "      <td>...</td>\n",
       "      <td>...</td>\n",
       "      <td>...</td>\n",
       "      <td>...</td>\n",
       "    </tr>\n",
       "    <tr>\n",
       "      <th>3891</th>\n",
       "      <td>HA099</td>\n",
       "      <td>2022/23</td>\n",
       "      <td>9</td>\n",
       "      <td>2022-10-17 00:00:00</td>\n",
       "      <td>Prövning av förslag till statsminister</td>\n",
       "      <td>NaN</td>\n",
       "      <td>5</td>\n",
       "      <td>Per Bolund (MP)</td>\n",
       "      <td>MP</td>\n",
       "      <td>Herr talman! Ärade ledamöter! Sverige är ett ...</td>\n",
       "      <td>9.564443e+11</td>\n",
       "      <td>NaN</td>\n",
       "      <td>N</td>\n",
       "    </tr>\n",
       "    <tr>\n",
       "      <th>3892</th>\n",
       "      <td>HA099</td>\n",
       "      <td>2022/23</td>\n",
       "      <td>9</td>\n",
       "      <td>2022-10-17 00:00:00</td>\n",
       "      <td>Prövning av förslag till statsminister</td>\n",
       "      <td>NaN</td>\n",
       "      <td>6</td>\n",
       "      <td>Annie Lööf (C)</td>\n",
       "      <td>C</td>\n",
       "      <td>STYLEREF Kantrubrik \\* MERGEFORMAT Prövning ...</td>\n",
       "      <td>8.628683e+11</td>\n",
       "      <td>NaN</td>\n",
       "      <td>N</td>\n",
       "    </tr>\n",
       "    <tr>\n",
       "      <th>3893</th>\n",
       "      <td>HA099</td>\n",
       "      <td>2022/23</td>\n",
       "      <td>9</td>\n",
       "      <td>2022-10-17 00:00:00</td>\n",
       "      <td>Prövning av förslag till statsminister</td>\n",
       "      <td>NaN</td>\n",
       "      <td>7</td>\n",
       "      <td>Jimmie Åkesson (SD)</td>\n",
       "      <td>SD</td>\n",
       "      <td>Herr talman! Det är inte vi här inne i riksda...</td>\n",
       "      <td>5.120752e+10</td>\n",
       "      <td>NaN</td>\n",
       "      <td>N</td>\n",
       "    </tr>\n",
       "    <tr>\n",
       "      <th>3894</th>\n",
       "      <td>HA099</td>\n",
       "      <td>2022/23</td>\n",
       "      <td>9</td>\n",
       "      <td>2022-10-17 00:00:00</td>\n",
       "      <td>Prövning av förslag till statsminister</td>\n",
       "      <td>NaN</td>\n",
       "      <td>8</td>\n",
       "      <td>Ebba Busch (KD)</td>\n",
       "      <td>KD</td>\n",
       "      <td>STYLEREF Kantrubrik \\* MERGEFORMAT Prövning ...</td>\n",
       "      <td>5.125107e+11</td>\n",
       "      <td>NaN</td>\n",
       "      <td>N</td>\n",
       "    </tr>\n",
       "    <tr>\n",
       "      <th>3895</th>\n",
       "      <td>HA099</td>\n",
       "      <td>2022/23</td>\n",
       "      <td>9</td>\n",
       "      <td>2022-10-17 00:00:00</td>\n",
       "      <td>Prövning av förslag till statsminister</td>\n",
       "      <td>NaN</td>\n",
       "      <td>9</td>\n",
       "      <td>Nooshi Dadgostar (V)</td>\n",
       "      <td>V</td>\n",
       "      <td>Herr talman! Sverige kan vara på väg in i en ...</td>\n",
       "      <td>7.215098e+11</td>\n",
       "      <td>NaN</td>\n",
       "      <td>N</td>\n",
       "    </tr>\n",
       "  </tbody>\n",
       "</table>\n",
       "<p>3896 rows × 13 columns</p>\n",
       "</div>"
      ],
      "text/plain": [
       "     dok_id   dok_rm  dok_nummer            dok_datum  \\\n",
       "0     HA091  2022/23           1  2022-09-26 00:00:00   \n",
       "1     HA091  2022/23           1  2022-09-26 00:00:00   \n",
       "2     HA091  2022/23           1  2022-09-26 00:00:00   \n",
       "3     HA091  2022/23           1  2022-09-26 00:00:00   \n",
       "4     HA091  2022/23           1  2022-09-26 00:00:00   \n",
       "...     ...      ...         ...                  ...   \n",
       "3891  HA099  2022/23           9  2022-10-17 00:00:00   \n",
       "3892  HA099  2022/23           9  2022-10-17 00:00:00   \n",
       "3893  HA099  2022/23           9  2022-10-17 00:00:00   \n",
       "3894  HA099  2022/23           9  2022-10-17 00:00:00   \n",
       "3895  HA099  2022/23           9  2022-10-17 00:00:00   \n",
       "\n",
       "                                 avsnittsrubrik kammaraktivitet  \\\n",
       "0     Hälsningsanförande från ålderspresidenten             NaN   \n",
       "1                     Val av förste vice talman             NaN   \n",
       "2                     Val av förste vice talman             NaN   \n",
       "3                      Val av andre vice talman             NaN   \n",
       "4                      Val av andre vice talman             NaN   \n",
       "...                                         ...             ...   \n",
       "3891     Prövning av förslag till statsminister             NaN   \n",
       "3892     Prövning av förslag till statsminister             NaN   \n",
       "3893     Prövning av förslag till statsminister             NaN   \n",
       "3894     Prövning av förslag till statsminister             NaN   \n",
       "3895     Prövning av förslag till statsminister             NaN   \n",
       "\n",
       "      anforande_nummer                talare parti  \\\n",
       "0                    1    Carina Ohlsson (S)     S   \n",
       "1                   10  Gunilla Carlsson (S)     S   \n",
       "2                   11        Annie Lööf (C)     C   \n",
       "3                   12     Henrik Vinge (SD)    SD   \n",
       "4                   13  Annika Hirvonen (MP)    MP   \n",
       "...                ...                   ...   ...   \n",
       "3891                 5       Per Bolund (MP)    MP   \n",
       "3892                 6        Annie Lööf (C)     C   \n",
       "3893                 7   Jimmie Åkesson (SD)    SD   \n",
       "3894                 8       Ebba Busch (KD)    KD   \n",
       "3895                 9  Nooshi Dadgostar (V)     V   \n",
       "\n",
       "                                          anforandetext  intressent_id  \\\n",
       "0      Ärade riksdagsledamöter! Mina damer och herra...   8.599683e+11   \n",
       "1      Fru ålderspresident! Jag vill å den socialdem...   8.752213e+11   \n",
       "2      Fru ålderspresident och ärade ledamöter av Sv...   8.628683e+11   \n",
       "3      Fru ålderspresident! Jag vill börja med att g...   4.068319e+11   \n",
       "4      Fru ålderspresident! När vetskapen om Moderat...   8.196016e+11   \n",
       "...                                                 ...            ...   \n",
       "3891   Herr talman! Ärade ledamöter! Sverige är ett ...   9.564443e+11   \n",
       "3892    STYLEREF Kantrubrik \\* MERGEFORMAT Prövning ...   8.628683e+11   \n",
       "3893   Herr talman! Det är inte vi här inne i riksda...   5.120752e+10   \n",
       "3894    STYLEREF Kantrubrik \\* MERGEFORMAT Prövning ...   5.125107e+11   \n",
       "3895   Herr talman! Sverige kan vara på väg in i en ...   7.215098e+11   \n",
       "\n",
       "     rel_dok_id replik  \n",
       "0           NaN      N  \n",
       "1           NaN      N  \n",
       "2           NaN      N  \n",
       "3           NaN      N  \n",
       "4           NaN      N  \n",
       "...         ...    ...  \n",
       "3891        NaN      N  \n",
       "3892        NaN      N  \n",
       "3893        NaN      N  \n",
       "3894        NaN      N  \n",
       "3895        NaN      N  \n",
       "\n",
       "[3896 rows x 13 columns]"
      ]
     },
     "execution_count": 62,
     "metadata": {},
     "output_type": "execute_result"
    }
   ],
   "source": [
    "df = pd.read_csv(\"data.csvt\")\n",
    "df\n"
   ]
  },
  {
   "cell_type": "code",
   "execution_count": null,
   "metadata": {},
   "outputs": [],
   "source": [
    "df.shape\n",
    "filtered_df = df.filter([\"talare\", \"parti\", \"dok_nummer\"])\n",
    "filtered_df[\"dok_nummer\"].max()\n",
    "filtered_df[\"dok_nummer\"].min()\n",
    "filtered_df[\"dok_nummer\"].cumprod()\n",
    "filtered_df[\"talare\"].value_counts()\n",
    "filtered_df = filtered_df.drop([\"dok_nummer\"], axis=1)\n",
    "filtered_df = filtered_df.drop(0, axis=0)\n",
    "filtered_df\n"
   ]
  },
  {
   "cell_type": "code",
   "execution_count": 63,
   "metadata": {},
   "outputs": [
    {
     "data": {
      "text/html": [
       "<div>\n",
       "<style scoped>\n",
       "    .dataframe tbody tr th:only-of-type {\n",
       "        vertical-align: middle;\n",
       "    }\n",
       "\n",
       "    .dataframe tbody tr th {\n",
       "        vertical-align: top;\n",
       "    }\n",
       "\n",
       "    .dataframe thead th {\n",
       "        text-align: right;\n",
       "    }\n",
       "</style>\n",
       "<table border=\"1\" class=\"dataframe\">\n",
       "  <thead>\n",
       "    <tr style=\"text-align: right;\">\n",
       "      <th></th>\n",
       "      <th>id</th>\n",
       "      <th>title</th>\n",
       "      <th>description</th>\n",
       "    </tr>\n",
       "  </thead>\n",
       "  <tbody>\n",
       "    <tr>\n",
       "      <th>0</th>\n",
       "      <td>1</td>\n",
       "      <td>Do  this</td>\n",
       "      <td>Dont do  that when doing this</td>\n",
       "    </tr>\n",
       "    <tr>\n",
       "      <th>1</th>\n",
       "      <td>3</td>\n",
       "      <td>dogs</td>\n",
       "      <td>dogs---</td>\n",
       "    </tr>\n",
       "  </tbody>\n",
       "</table>\n",
       "</div>"
      ],
      "text/plain": [
       "   id     title                    description\n",
       "0   1  Do  this  Dont do  that when doing this\n",
       "1   3      dogs                        dogs---"
      ]
     },
     "execution_count": 63,
     "metadata": {},
     "output_type": "execute_result"
    }
   ],
   "source": [
    "import requests\n",
    "\n",
    "res = requests.get(\"http://127.0.0.1:8000/todos\")\n",
    "if not res.status_code == 200:\n",
    "    print(\"HTTP error bruh\")\n",
    "\n",
    "df_from_json_res = pd.read_json(res.text)\n",
    "df_from_json_res\n"
   ]
  },
  {
   "cell_type": "code",
   "execution_count": 64,
   "metadata": {},
   "outputs": [
    {
     "data": {
      "text/html": [
       "<div>\n",
       "<style scoped>\n",
       "    .dataframe tbody tr th:only-of-type {\n",
       "        vertical-align: middle;\n",
       "    }\n",
       "\n",
       "    .dataframe tbody tr th {\n",
       "        vertical-align: top;\n",
       "    }\n",
       "\n",
       "    .dataframe thead th {\n",
       "        text-align: right;\n",
       "    }\n",
       "</style>\n",
       "<table border=\"1\" class=\"dataframe\">\n",
       "  <thead>\n",
       "    <tr style=\"text-align: right;\">\n",
       "      <th></th>\n",
       "      <th>title</th>\n",
       "      <th>description</th>\n",
       "    </tr>\n",
       "  </thead>\n",
       "  <tbody>\n",
       "    <tr>\n",
       "      <th>0</th>\n",
       "      <td>Wake up</td>\n",
       "      <td>Wake up from coma</td>\n",
       "    </tr>\n",
       "    <tr>\n",
       "      <th>1</th>\n",
       "      <td>Wiggle toes</td>\n",
       "      <td>Find weird sexist truck to wiggle toes in</td>\n",
       "    </tr>\n",
       "    <tr>\n",
       "      <th>2</th>\n",
       "      <td>Find katana</td>\n",
       "      <td>I heard Hattori Hanzo is the guy to see</td>\n",
       "    </tr>\n",
       "    <tr>\n",
       "      <th>3</th>\n",
       "      <td>Decapitate japanese yakuza boss</td>\n",
       "      <td>The katana will come in handy here</td>\n",
       "    </tr>\n",
       "    <tr>\n",
       "      <th>4</th>\n",
       "      <td>Kill Bill</td>\n",
       "      <td>Use the weird death punch i learned about, som...</td>\n",
       "    </tr>\n",
       "  </tbody>\n",
       "</table>\n",
       "</div>"
      ],
      "text/plain": [
       "                             title  \\\n",
       "0                          Wake up   \n",
       "1                      Wiggle toes   \n",
       "2                      Find katana   \n",
       "3  Decapitate japanese yakuza boss   \n",
       "4                        Kill Bill   \n",
       "\n",
       "                                         description  \n",
       "0                                  Wake up from coma  \n",
       "1          Find weird sexist truck to wiggle toes in  \n",
       "2            I heard Hattori Hanzo is the guy to see  \n",
       "3                 The katana will come in handy here  \n",
       "4  Use the weird death punch i learned about, som...  "
      ]
     },
     "execution_count": 64,
     "metadata": {},
     "output_type": "execute_result"
    }
   ],
   "source": [
    "df_from_json_file = pd.read_json(\"../lesson11/seed.json\")\n",
    "df_from_json_file\n"
   ]
  },
  {
   "attachments": {},
   "cell_type": "markdown",
   "metadata": {},
   "source": [
    "Pandas kan också göra sql queries"
   ]
  },
  {
   "cell_type": "code",
   "execution_count": 69,
   "metadata": {},
   "outputs": [
    {
     "data": {
      "text/html": [
       "<div>\n",
       "<style scoped>\n",
       "    .dataframe tbody tr th:only-of-type {\n",
       "        vertical-align: middle;\n",
       "    }\n",
       "\n",
       "    .dataframe tbody tr th {\n",
       "        vertical-align: top;\n",
       "    }\n",
       "\n",
       "    .dataframe thead th {\n",
       "        text-align: right;\n",
       "    }\n",
       "</style>\n",
       "<table border=\"1\" class=\"dataframe\">\n",
       "  <thead>\n",
       "    <tr style=\"text-align: right;\">\n",
       "      <th></th>\n",
       "      <th>id</th>\n",
       "      <th>title</th>\n",
       "      <th>description</th>\n",
       "    </tr>\n",
       "  </thead>\n",
       "  <tbody>\n",
       "    <tr>\n",
       "      <th>0</th>\n",
       "      <td>1</td>\n",
       "      <td>Do  this</td>\n",
       "      <td>Dont do  that when doing this</td>\n",
       "    </tr>\n",
       "    <tr>\n",
       "      <th>1</th>\n",
       "      <td>2</td>\n",
       "      <td>Do it</td>\n",
       "      <td>Greetings from yll</td>\n",
       "    </tr>\n",
       "    <tr>\n",
       "      <th>2</th>\n",
       "      <td>4</td>\n",
       "      <td>Do this</td>\n",
       "      <td>Greeting from Erik</td>\n",
       "    </tr>\n",
       "  </tbody>\n",
       "</table>\n",
       "</div>"
      ],
      "text/plain": [
       "   id     title                    description\n",
       "0   1  Do  this  Dont do  that when doing this\n",
       "1   2     Do it             Greetings from yll\n",
       "2   4   Do this             Greeting from Erik"
      ]
     },
     "execution_count": 69,
     "metadata": {},
     "output_type": "execute_result"
    }
   ],
   "source": [
    "import sqlite3\n",
    "conn = sqlite3.connect(\"../lesson11/todo.db\")\n",
    "df_from_sql_query = pd.read_sql(\"SELECT * FROM todo\",con=conn)\n",
    "df_from_sql_query"
   ]
  },
  {
   "cell_type": "markdown",
   "metadata": {},
   "source": []
  },
  {
   "attachments": {},
   "cell_type": "markdown",
   "metadata": {},
   "source": [
    "Vi kan lägga till tabeller i en dataframe "
   ]
  },
  {
   "cell_type": "code",
   "execution_count": 92,
   "metadata": {},
   "outputs": [
    {
     "data": {
      "text/plain": [
       "False"
      ]
     },
     "execution_count": 92,
     "metadata": {},
     "output_type": "execute_result"
    }
   ],
   "source": [
    "df = pd.read_csv(\"data.csvt\")\n",
    "filtered_df = df.filter([\"talare\",\"parti\",\"anforandetext\"])\n",
    "text_lenght = pd.Series(name=\"text_lenght\", data=[\n",
    "                        len(row) for row in df[\"anforandetext\"]])\n",
    "text_lenght\n",
    "filtered_df[\"text_lenght\"] = text_lenght\n",
    "filtered_df\n",
    "df = pd.concat([df, filtered_df],axis=1)\n",
    "df\n",
    "filtered_df[\"text_lenght\"].hasnans\n",
    "\n"
   ]
  },
  {
   "cell_type": "code",
   "execution_count": 81,
   "metadata": {},
   "outputs": [
    {
     "data": {
      "text/html": [
       "<div>\n",
       "<style scoped>\n",
       "    .dataframe tbody tr th:only-of-type {\n",
       "        vertical-align: middle;\n",
       "    }\n",
       "\n",
       "    .dataframe tbody tr th {\n",
       "        vertical-align: top;\n",
       "    }\n",
       "\n",
       "    .dataframe thead th {\n",
       "        text-align: right;\n",
       "    }\n",
       "</style>\n",
       "<table border=\"1\" class=\"dataframe\">\n",
       "  <thead>\n",
       "    <tr style=\"text-align: right;\">\n",
       "      <th></th>\n",
       "      <th>talare</th>\n",
       "      <th>parti</th>\n",
       "      <th>anforandetext</th>\n",
       "      <th>text_length</th>\n",
       "    </tr>\n",
       "  </thead>\n",
       "  <tbody>\n",
       "    <tr>\n",
       "      <th>0</th>\n",
       "      <td>Carina Ohlsson (S)</td>\n",
       "      <td>S</td>\n",
       "      <td>Ärade riksdagsledamöter! Mina damer och herra...</td>\n",
       "      <td>1162</td>\n",
       "    </tr>\n",
       "    <tr>\n",
       "      <th>1</th>\n",
       "      <td>Gunilla Carlsson (S)</td>\n",
       "      <td>S</td>\n",
       "      <td>Fru ålderspresident! Jag vill å den socialdem...</td>\n",
       "      <td>724</td>\n",
       "    </tr>\n",
       "    <tr>\n",
       "      <th>2</th>\n",
       "      <td>Annie Lööf (C)</td>\n",
       "      <td>C</td>\n",
       "      <td>Fru ålderspresident och ärade ledamöter av Sv...</td>\n",
       "      <td>591</td>\n",
       "    </tr>\n",
       "    <tr>\n",
       "      <th>3</th>\n",
       "      <td>Henrik Vinge (SD)</td>\n",
       "      <td>SD</td>\n",
       "      <td>Fru ålderspresident! Jag vill börja med att g...</td>\n",
       "      <td>2915</td>\n",
       "    </tr>\n",
       "    <tr>\n",
       "      <th>4</th>\n",
       "      <td>Annika Hirvonen (MP)</td>\n",
       "      <td>MP</td>\n",
       "      <td>Fru ålderspresident! När vetskapen om Moderat...</td>\n",
       "      <td>7226</td>\n",
       "    </tr>\n",
       "    <tr>\n",
       "      <th>...</th>\n",
       "      <td>...</td>\n",
       "      <td>...</td>\n",
       "      <td>...</td>\n",
       "      <td>...</td>\n",
       "    </tr>\n",
       "    <tr>\n",
       "      <th>3891</th>\n",
       "      <td>Per Bolund (MP)</td>\n",
       "      <td>MP</td>\n",
       "      <td>Herr talman! Ärade ledamöter! Sverige är ett ...</td>\n",
       "      <td>8027</td>\n",
       "    </tr>\n",
       "    <tr>\n",
       "      <th>3892</th>\n",
       "      <td>Annie Lööf (C)</td>\n",
       "      <td>C</td>\n",
       "      <td>STYLEREF Kantrubrik \\* MERGEFORMAT Prövning ...</td>\n",
       "      <td>5234</td>\n",
       "    </tr>\n",
       "    <tr>\n",
       "      <th>3893</th>\n",
       "      <td>Jimmie Åkesson (SD)</td>\n",
       "      <td>SD</td>\n",
       "      <td>Herr talman! Det är inte vi här inne i riksda...</td>\n",
       "      <td>4713</td>\n",
       "    </tr>\n",
       "    <tr>\n",
       "      <th>3894</th>\n",
       "      <td>Ebba Busch (KD)</td>\n",
       "      <td>KD</td>\n",
       "      <td>STYLEREF Kantrubrik \\* MERGEFORMAT Prövning ...</td>\n",
       "      <td>5645</td>\n",
       "    </tr>\n",
       "    <tr>\n",
       "      <th>3895</th>\n",
       "      <td>Nooshi Dadgostar (V)</td>\n",
       "      <td>V</td>\n",
       "      <td>Herr talman! Sverige kan vara på väg in i en ...</td>\n",
       "      <td>10388</td>\n",
       "    </tr>\n",
       "  </tbody>\n",
       "</table>\n",
       "<p>3896 rows × 4 columns</p>\n",
       "</div>"
      ],
      "text/plain": [
       "                    talare parti  \\\n",
       "0       Carina Ohlsson (S)     S   \n",
       "1     Gunilla Carlsson (S)     S   \n",
       "2           Annie Lööf (C)     C   \n",
       "3        Henrik Vinge (SD)    SD   \n",
       "4     Annika Hirvonen (MP)    MP   \n",
       "...                    ...   ...   \n",
       "3891       Per Bolund (MP)    MP   \n",
       "3892        Annie Lööf (C)     C   \n",
       "3893   Jimmie Åkesson (SD)    SD   \n",
       "3894       Ebba Busch (KD)    KD   \n",
       "3895  Nooshi Dadgostar (V)     V   \n",
       "\n",
       "                                          anforandetext  text_length  \n",
       "0      Ärade riksdagsledamöter! Mina damer och herra...         1162  \n",
       "1      Fru ålderspresident! Jag vill å den socialdem...          724  \n",
       "2      Fru ålderspresident och ärade ledamöter av Sv...          591  \n",
       "3      Fru ålderspresident! Jag vill börja med att g...         2915  \n",
       "4      Fru ålderspresident! När vetskapen om Moderat...         7226  \n",
       "...                                                 ...          ...  \n",
       "3891   Herr talman! Ärade ledamöter! Sverige är ett ...         8027  \n",
       "3892    STYLEREF Kantrubrik \\* MERGEFORMAT Prövning ...         5234  \n",
       "3893   Herr talman! Det är inte vi här inne i riksda...         4713  \n",
       "3894    STYLEREF Kantrubrik \\* MERGEFORMAT Prövning ...         5645  \n",
       "3895   Herr talman! Sverige kan vara på väg in i en ...        10388  \n",
       "\n",
       "[3896 rows x 4 columns]"
      ]
     },
     "execution_count": 81,
     "metadata": {},
     "output_type": "execute_result"
    }
   ],
   "source": [
    "filtered_df.to_csv(\"my_csv.csv\")\n",
    "filtered_df.to_json(\"my_csc.json\")\n",
    "filtered_df.to_html(\"my_html.html\")\n",
    "filtered_df\n"
   ]
  },
  {
   "attachments": {},
   "cell_type": "markdown",
   "metadata": {},
   "source": [
    "Vi kan plota från en dataframe,me då måste matplotlib installeras"
   ]
  },
  {
   "cell_type": "code",
   "execution_count": 95,
   "metadata": {},
   "outputs": [
    {
     "data": {
      "image/png": "[encoded data removed]",
      "text/plain": [
       "<Figure size 640x480 with 1 Axes>"
      ]
     },
     "metadata": {},
     "output_type": "display_data"
    }
   ],
   "source": [
    "plot = filtered_df[:5].plot(x=\"talare\",y=\"text_lenght\",kind=\"bar\")\n",
    "plot.figure.savefig(\"test.svg\",format=\"svg\")"
   ]
  }
 ],
 "metadata": {
  "kernelspec": {
   "display_name": "lesson12-uUEKW17t",
   "language": "python",
   "name": "python3"
  },
  "language_info": {
   "codemirror_mode": {
    "name": "ipython",
    "version": 3
   },
   "file_extension": ".py",
   "mimetype": "text/x-python",
   "name": "python",
   "nbconvert_exporter": "python",
   "pygments_lexer": "ipython3",
   "version": "3.11.1"
  },
  "orig_nbformat": 4,
  "vscode": {
   "interpreter": {
    "hash": "09113a487fb48e69b53c6d2ad6f5dcd8d8912f94ad77bc4a08bb7cb629846fe4"
   }
  }
 },
 "nbformat": 4,
 "nbformat_minor": 2
}
